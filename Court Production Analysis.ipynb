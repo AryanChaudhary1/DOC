{
 "cells": [
  {
   "cell_type": "code",
   "execution_count": null,
   "id": "6d233b7f",
   "metadata": {
    "editable": true,
    "slideshow": {
     "slide_type": ""
    },
    "tags": []
   },
   "outputs": [],
   "source": [
    "import pandas as pd\n",
    "import matplotlib.pyplot as plt\n",
    "\n",
    "df_pic = pd.read_csv('df_pic.csv')\n",
    "df_prod = pd.read_csv('df_prod.csv')"
   ]
  },
  {
   "cell_type": "code",
   "execution_count": null,
   "id": "7e689a08-b035-4b41-9c0d-bbb4f29a8e36",
   "metadata": {
    "editable": true,
    "slideshow": {
     "slide_type": ""
    },
    "tags": []
   },
   "outputs": [],
   "source": [
    "df_pic['ADMITTED_DT'] = pd.to_datetime(df_pic['ADMITTED_DT'], format='%m/%d/%Y %H:%M')\n",
    "df_pic['DISCHARGED_DT'] = pd.to_datetime(df_pic['DISCHARGED_DT'], format='%m/%d/%Y %H:%M')\n",
    "\n",
    "admitted_dates_df = df_pic[['BOOKCASENUMBER_HASHED', 'ADMITTED_DT', 'SEVERITY']]\n",
    "discharge_dates_df = df_pic[['BOOKCASENUMBER_HASHED', 'DISCHARGED_DT']]"
   ]
  },
  {
   "cell_type": "code",
   "execution_count": null,
   "id": "0358a014-74dd-442f-b77a-80ed67e72d92",
   "metadata": {
    "editable": true,
    "slideshow": {
     "slide_type": ""
    },
    "tags": []
   },
   "outputs": [],
   "source": [
    "df_prod['DOC_DEPARTURE_DATETIME'] = pd.to_datetime(df_prod['DOC_DEPARTURE_DATETIME'], format='%m/%d/%Y %H:%M')\n",
    "court_dates_df = df_prod[['BOOKCASENUMBER_HASHED', 'DOC_DEPARTURE_DATETIME', 'COUNTY']]\n",
    "court_dates_df = court_dates_df.sort_values(by=['BOOKCASENUMBER_HASHED', 'DOC_DEPARTURE_DATETIME']).reset_index(drop=True)"
   ]
  },
  {
   "cell_type": "code",
   "execution_count": null,
   "id": "bd985295-83b1-4523-a74d-51d5d9be96d7",
   "metadata": {
    "editable": true,
    "slideshow": {
     "slide_type": ""
    },
    "tags": []
   },
   "outputs": [],
   "source": [
    "# Merge df_court_dates with df_admit_dates\n",
    "merged_df = pd.merge(court_dates_df, admitted_dates_df, on='BOOKCASENUMBER_HASHED', how='left')\n",
    "\n",
    "# Merge the result with df_discharge_dates\n",
    "merged_df = pd.merge(merged_df, discharge_dates_df, on='BOOKCASENUMBER_HASHED', how='left')\n",
    "merged_df = merged_df.dropna(subset = ['ADMITTED_DT'])\n",
    "merged_df.head(50)"
   ]
  },
  {
   "cell_type": "code",
   "execution_count": null,
   "id": "02b46bb7-0758-4575-8e0d-0a175b55eae9",
   "metadata": {},
   "outputs": [],
   "source": [
    "# Drop duplicates to keep only the first court date for each inmate\n",
    "first_court_dates_df = merged_df.drop_duplicates(subset='BOOKCASENUMBER_HASHED', keep='first')\n",
    "\n",
    "# Calculate the time difference between 'admit_date' and 'court_date'\n",
    "first_court_dates_df['time_to_first_court'] = first_court_dates_df['DOC_DEPARTURE_DATETIME'] - first_court_dates_df['ADMITTED_DT']\n",
    "first_court_dates_df.head()"
   ]
  },
  {
   "cell_type": "code",
   "execution_count": null,
   "id": "b8499df6-cf36-460c-9c2d-ef057c63650a",
   "metadata": {},
   "outputs": [],
   "source": [
    "# Drop duplicates to keep only the last court date for each inmate\n",
    "final_court_dates_df = merged_df.drop_duplicates(subset='BOOKCASENUMBER_HASHED', keep='last')\n",
    "\n",
    "# Calculate the time difference between 'discharge_date' and 'final_court_date'\n",
    "final_court_dates_df['time_since_last_court'] = final_court_dates_df['DISCHARGED_DT'] - final_court_dates_df['DOC_DEPARTURE_DATETIME']\n",
    "final_court_dates_df.head()"
   ]
  },
  {
   "cell_type": "code",
   "execution_count": null,
   "id": "576cfc06-5b49-4d2d-9f16-924dd4d3733a",
   "metadata": {},
   "outputs": [],
   "source": [
    "#To find the number of court dates for each PIC\n",
    "court_date_counts = merged_df.groupby('BOOKCASENUMBER_HASHED').size().reset_index(name='court_date_count')"
   ]
  },
  {
   "cell_type": "code",
   "execution_count": null,
   "id": "dd34fc63-3385-4074-9dea-7da88d429b76",
   "metadata": {
    "scrolled": true
   },
   "outputs": [],
   "source": [
    "# Calculate time differences between subsequent court dates for each inmate id\n",
    "merged_df['court_date_diffs'] = merged_df.groupby('BOOKCASENUMBER_HASHED')['DOC_DEPARTURE_DATETIME'].diff()\n",
    "subsequent_court_times_df = merged_df.groupby('BOOKCASENUMBER_HASHED').agg({\n",
    "    'COUNTY': 'first',\n",
    "    'ADMITTED_DT': 'first',\n",
    "    'SEVERITY': 'first',\n",
    "    'DISCHARGED_DT': 'first',\n",
    "    'court_date_diffs': lambda x: x.dropna().tolist()  # Aggregate differences into lists\n",
    "}).reset_index()\n",
    "\n",
    "# Function to remove zero timedelta values\n",
    "def remove_zero_timedeltas(list):\n",
    "    return [td for td in list if td != pd.Timedelta(0)]\n",
    "\n",
    "subsequent_court_times_df['court_date_diffs'] = subsequent_court_times_df['court_date_diffs'].apply(remove_zero_timedeltas)\n",
    "pd.set_option('display.max_colwidth', None)\n",
    "\n",
    "# Function to calculate the number of court dates\n",
    "def count_court_dates(diffs):\n",
    "    if not diffs:\n",
    "        return 1  # Only 1 court date if the list is empty\n",
    "    return len(diffs) + 1\n",
    "\n",
    "# Apply the function to the 'court_date_diffs' column\n",
    "subsequent_court_times_df['number_of_court_dates'] = subsequent_court_times_df['court_date_diffs'].apply(count_court_dates)\n",
    "\n",
    "# Plotting the distribution of frequency of court dates\n",
    "plt.figure(figsize=(14, 6))\n",
    "plt.hist(subsequent_court_times_df['number_of_court_dates'], bins=range(0, max(subsequent_court_times_df['number_of_court_dates']) + 2), edgecolor='black')\n",
    "plt.xlabel('Number of Court Dates')\n",
    "plt.ylabel('Frequency')\n",
    "plt.title('Distribution of Number of Court Dates')\n",
    "plt.xticks(range(0, max(subsequent_court_times_df['number_of_court_dates']) + 1))\n",
    "plt.tight_layout()\n",
    "plt.show()"
   ]
  },
  {
   "cell_type": "code",
   "execution_count": null,
   "id": "255d2947-2df4-4d9c-929a-3dbb9edddd08",
   "metadata": {},
   "outputs": [],
   "source": [
    "def avg_court_date_diff(list):\n",
    "    if len(list) == 0:\n",
    "        return None\n",
    "    return sum(list, pd.Timedelta(0)) / len(list)\n",
    "\n",
    "# Calculate the average court date difference for each inmate\n",
    "subsequent_court_times_df['avg_court_date_diff'] = subsequent_court_times_df['court_date_diffs'].apply(lambda x: avg_court_date_diff(x))"
   ]
  },
  {
   "cell_type": "code",
   "execution_count": null,
   "id": "fdbd3a20-a808-4db7-a41e-11d8febebe8d",
   "metadata": {},
   "outputs": [],
   "source": [
    "subsequent_court_times_df = subsequent_court_times_df.dropna(subset=['avg_court_date_diff'])\n",
    "\n",
    "def timedelta_to_decimal_days(td):\n",
    "    total_seconds = td.total_seconds()\n",
    "    decimal_days = total_seconds / (24 * 60 * 60)  # Convert seconds to days\n",
    "    return decimal_days\n",
    "\n",
    "subsequent_court_times_df['avg_court_date_diff_decimal'] = subsequent_court_times_df['avg_court_date_diff'].apply(timedelta_to_decimal_days)\n",
    "\n",
    "county_avg = subsequent_court_times_df.groupby('COUNTY')['avg_court_date_diff_decimal'].mean()\n",
    "top_charge_avg = subsequent_court_times_df.groupby('SEVERITY')['avg_court_date_diff_decimal'].mean()\n",
    "\n",
    "# Convert to a DataFrame for plotting\n",
    "county_avg_df = county_avg.reset_index()\n",
    "top_charge_avg_df = top_charge_avg.reset_index()\n",
    "\n",
    "# Plotting\n",
    "fig, (ax1, ax2) = plt.subplots(1, 2, figsize=(14, 7))\n",
    "\n",
    "ax1.bar(county_avg_df['COUNTY'], county_avg_df['avg_court_date_diff_decimal'])\n",
    "ax1.set_xlabel('County')\n",
    "ax1.set_ylabel('Average Subsequent Court Date Time Difference (Days)')\n",
    "ax1.set_title('Average Subsequent Court Date Time Difference by County')\n",
    "\n",
    "ax2.bar(top_charge_avg_df['SEVERITY'], top_charge_avg_df['avg_court_date_diff_decimal'])\n",
    "ax2.set_xlabel('Severity')\n",
    "ax2.set_ylabel('Average Subsequent Court Date Time Difference (Days)')\n",
    "ax2.set_title('Average Subsequent Court Date Time Difference by Top Charge')\n",
    "plt.tight_layout()\n",
    "plt.show()"
   ]
  },
  {
   "cell_type": "code",
   "execution_count": null,
   "id": "8dd7737d-1611-41e5-b681-ff13194b217e",
   "metadata": {},
   "outputs": [],
   "source": [
    "first_court_dates_df['avg_time_to_first_court'] = first_court_dates_df['time_to_first_court'].apply(timedelta_to_decimal_days)\n",
    "first_court_county_avg = first_court_dates_df.groupby('COUNTY')['avg_time_to_first_court'].mean()\n",
    "first_court_top_charge_avg = first_court_dates_df.groupby('SEVERITY')['avg_time_to_first_court'].mean()\n",
    "\n",
    "first_court_county_avg_df = first_court_county_avg.reset_index()\n",
    "first_court_top_charge_avg_df = first_court_top_charge_avg.reset_index()\n",
    "\n",
    "# Plotting\n",
    "fig, (ax3, ax4) = plt.subplots(1, 2, figsize=(14, 7))\n",
    "\n",
    "ax3.bar(first_court_county_avg_df['COUNTY'], first_court_county_avg_df['avg_time_to_first_court'])\n",
    "ax3.set_xlabel('County')\n",
    "ax3.set_ylabel('Average Time to First Court (Days)')\n",
    "ax3.set_title('Average Time to First Court by County')\n",
    "\n",
    "ax4.bar(first_court_top_charge_avg_df['SEVERITY'], first_court_top_charge_avg_df['avg_time_to_first_court'])\n",
    "ax4.set_xlabel('Severity')\n",
    "ax4.set_ylabel('Average Time to First Court (Days)')\n",
    "ax4.set_title('Average Time to First Court by Top Charge')\n",
    "plt.tight_layout()\n",
    "plt.show()"
   ]
  },
  {
   "cell_type": "code",
   "execution_count": null,
   "id": "a1ef0817-5438-4fe0-81da-800869cf0bed",
   "metadata": {},
   "outputs": [],
   "source": [
    "final_court_dates_df['avg_time_since_last_court'] = final_court_dates_df['time_since_last_court'].apply(timedelta_to_decimal_days)\n",
    "final_court_county_avg = final_court_dates_df.groupby('COUNTY')['avg_time_since_last_court'].mean()\n",
    "final_court_top_charge_avg = final_court_dates_df.groupby('SEVERITY')['avg_time_since_last_court'].mean()\n",
    "\n",
    "final_court_county_avg_df = final_court_county_avg.reset_index()\n",
    "final_court_top_charge_avg_df = final_court_top_charge_avg.reset_index()\n",
    "\n",
    "# Plotting\n",
    "fig, (ax5, ax6) = plt.subplots(1, 2, figsize=(14, 7))\n",
    "\n",
    "ax5.bar(final_court_county_avg_df['COUNTY'], final_court_county_avg_df['avg_time_since_last_court'])\n",
    "ax5.set_xlabel('County')\n",
    "ax5.set_ylabel('Average Time Since Last Court (Days)')\n",
    "ax5.set_title('Average Time Since Last Court by County')\n",
    "\n",
    "ax6.bar(final_court_top_charge_avg_df['SEVERITY'], final_court_top_charge_avg_df['avg_time_since_last_court'])\n",
    "ax6.set_xlabel('Severity')\n",
    "ax6.set_ylabel('Average Time Since Last Court (Days)')\n",
    "ax6.set_title('Average Time Since Last Court by Top Charge')\n",
    "plt.tight_layout()\n",
    "plt.show()"
   ]
  }
 ],
 "metadata": {
  "kernelspec": {
   "display_name": "Python 3 (ipykernel)",
   "language": "python",
   "name": "python3"
  },
  "language_info": {
   "codemirror_mode": {
    "name": "ipython",
    "version": 3
   },
   "file_extension": ".py",
   "mimetype": "text/x-python",
   "name": "python",
   "nbconvert_exporter": "python",
   "pygments_lexer": "ipython3",
   "version": "3.11.9"
  }
 },
 "nbformat": 4,
 "nbformat_minor": 5
}
